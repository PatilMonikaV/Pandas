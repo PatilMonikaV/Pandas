{
 "cells": [
  {
   "cell_type": "markdown",
   "id": "1aa5b54b-ec43-4f44-8c2e-e8c39dd83eb8",
   "metadata": {},
   "source": [
    "Q1. List any five functions of the pandas library with execution."
   ]
  },
  {
   "cell_type": "markdown",
   "id": "be5e9cbd-2942-4a62-bc47-d351c4bfc6fd",
   "metadata": {},
   "source": [
    "1.read_csv(): Load data from a CSV file.       \n",
    "2.head(): This function is used to return the top n (5 by default) values of a data frame or series.                \n",
    "3.mean(): Calculate the mean of a Series or DataFrame.      \n",
    "4.std(): Calculate the standard deviation of a Series or DataFrame.      \n",
    "5.describe(): Calculate summary statistics for a Series or DataFrame."
   ]
  },
  {
   "cell_type": "code",
   "execution_count": 1,
   "id": "f9f69321-19f0-4312-b329-63020aa35f0f",
   "metadata": {},
   "outputs": [],
   "source": [
    "import pandas as pd"
   ]
  },
  {
   "cell_type": "code",
   "execution_count": 2,
   "id": "24113ece-2db2-4c92-9681-6e88f0e066b7",
   "metadata": {},
   "outputs": [],
   "source": [
    "df = pd.read_csv(\"people.csv\")"
   ]
  },
  {
   "cell_type": "code",
   "execution_count": 3,
   "id": "dcf9969f-c0da-4ba6-a842-17aa451218e2",
   "metadata": {},
   "outputs": [
    {
     "name": "stdout",
     "output_type": "stream",
     "text": [
      "  First Name Last Name     Sex                       Email Date of birth  Job Title        \n",
      "0  0     Shelby   Terrell    Male        elijah57...                                       \n",
      "1  1    Phillip   Summers  Female       bethany14...                                       \n",
      "2  2   Kristine    Travis    Male       bthompson...                                       \n",
      "3  3    Yesenia  Martinez    Male   kaitlinkaiser...                                       \n",
      "4  4       Lori      Todd    Male  buchananmanuel...                                       \n"
     ]
    }
   ],
   "source": [
    "print(df.head())"
   ]
  },
  {
   "cell_type": "code",
   "execution_count": 4,
   "id": "43263b6f-0516-4fc4-b206-5c703be76ddd",
   "metadata": {},
   "outputs": [
    {
     "name": "stdout",
     "output_type": "stream",
     "text": [
      "  First Name Last Name     Sex                       Email Date of birth  Job Title        \n",
      "5  5     SShelby   Toerrell    Male        erlija...                                       \n",
      "6  6    Phxillip   Suimmers  Female       betghan...                                       \n",
      "7  7   Krisstine    Trravis    Male       bthobmp...                                       \n",
      "8  8    Yesesnia  Martignez    Male   kaitlinkafi...                                       \n",
      "9  9       Lorri      Tobdd    Male  buchananmaue...                                       \n"
     ]
    }
   ],
   "source": [
    "print(df.tail())"
   ]
  },
  {
   "cell_type": "code",
   "execution_count": 7,
   "id": "1ce40241-490b-4ed0-893e-d7b0f8fe6865",
   "metadata": {},
   "outputs": [
    {
     "name": "stdout",
     "output_type": "stream",
     "text": [
      "       First Name Last Name     Sex                       Email Date of birth  Job Title        \n",
      "count                                                  10                                       \n",
      "unique                                                 10                                       \n",
      "top     0     Shelby   Terrell    Male        elijah57...                                       \n",
      "freq                                                    1                                       \n"
     ]
    }
   ],
   "source": [
    "print(df.describe())"
   ]
  },
  {
   "cell_type": "code",
   "execution_count": 11,
   "id": "90dfc274-e7b0-491a-9cc5-9e86935ced23",
   "metadata": {},
   "outputs": [],
   "source": [
    "df1 = pd.DataFrame({\"A\":[12, 4, 5, 44, 1], \n",
    "                \"B\":[5, 2, 54, 3, 2], \n",
    "                \"C\":[20, 16, 7, 3, 8], \n",
    "                \"D\":[14, 3, 17, 2, 6]})"
   ]
  },
  {
   "cell_type": "code",
   "execution_count": 12,
   "id": "41311126-dc9f-4a14-b61f-3205cb9d1e98",
   "metadata": {},
   "outputs": [
    {
     "data": {
      "text/html": [
       "<div>\n",
       "<style scoped>\n",
       "    .dataframe tbody tr th:only-of-type {\n",
       "        vertical-align: middle;\n",
       "    }\n",
       "\n",
       "    .dataframe tbody tr th {\n",
       "        vertical-align: top;\n",
       "    }\n",
       "\n",
       "    .dataframe thead th {\n",
       "        text-align: right;\n",
       "    }\n",
       "</style>\n",
       "<table border=\"1\" class=\"dataframe\">\n",
       "  <thead>\n",
       "    <tr style=\"text-align: right;\">\n",
       "      <th></th>\n",
       "      <th>A</th>\n",
       "      <th>B</th>\n",
       "      <th>C</th>\n",
       "      <th>D</th>\n",
       "    </tr>\n",
       "  </thead>\n",
       "  <tbody>\n",
       "    <tr>\n",
       "      <th>0</th>\n",
       "      <td>12</td>\n",
       "      <td>5</td>\n",
       "      <td>20</td>\n",
       "      <td>14</td>\n",
       "    </tr>\n",
       "    <tr>\n",
       "      <th>1</th>\n",
       "      <td>4</td>\n",
       "      <td>2</td>\n",
       "      <td>16</td>\n",
       "      <td>3</td>\n",
       "    </tr>\n",
       "    <tr>\n",
       "      <th>2</th>\n",
       "      <td>5</td>\n",
       "      <td>54</td>\n",
       "      <td>7</td>\n",
       "      <td>17</td>\n",
       "    </tr>\n",
       "    <tr>\n",
       "      <th>3</th>\n",
       "      <td>44</td>\n",
       "      <td>3</td>\n",
       "      <td>3</td>\n",
       "      <td>2</td>\n",
       "    </tr>\n",
       "    <tr>\n",
       "      <th>4</th>\n",
       "      <td>1</td>\n",
       "      <td>2</td>\n",
       "      <td>8</td>\n",
       "      <td>6</td>\n",
       "    </tr>\n",
       "  </tbody>\n",
       "</table>\n",
       "</div>"
      ],
      "text/plain": [
       "    A   B   C   D\n",
       "0  12   5  20  14\n",
       "1   4   2  16   3\n",
       "2   5  54   7  17\n",
       "3  44   3   3   2\n",
       "4   1   2   8   6"
      ]
     },
     "execution_count": 12,
     "metadata": {},
     "output_type": "execute_result"
    }
   ],
   "source": [
    "df1"
   ]
  },
  {
   "cell_type": "code",
   "execution_count": 14,
   "id": "b2771725-d840-4ec0-8419-0871387b1825",
   "metadata": {},
   "outputs": [
    {
     "data": {
      "text/plain": [
       "A    13.2\n",
       "B    13.2\n",
       "C    10.8\n",
       "D     8.4\n",
       "dtype: float64"
      ]
     },
     "execution_count": 14,
     "metadata": {},
     "output_type": "execute_result"
    }
   ],
   "source": [
    "df1.mean(axis = 0)"
   ]
  },
  {
   "cell_type": "code",
   "execution_count": 16,
   "id": "8f714838-ec18-4555-8672-1cd622dd5ec9",
   "metadata": {},
   "outputs": [
    {
     "data": {
      "text/plain": [
       "A    44\n",
       "B    54\n",
       "C    20\n",
       "D    17\n",
       "dtype: int64"
      ]
     },
     "execution_count": 16,
     "metadata": {},
     "output_type": "execute_result"
    }
   ],
   "source": [
    "df1.max(axis = 0) "
   ]
  },
  {
   "cell_type": "markdown",
   "id": "d2ee7316-4370-4c60-a7e0-452577e1578b",
   "metadata": {},
   "source": [
    "Q2. Given a Pandas DataFrame df with columns 'A', 'B', and 'C', write a Python function to re-index the\n",
    "DataFrame with a new index that starts from 1 and increments by 2 for each row."
   ]
  },
  {
   "cell_type": "code",
   "execution_count": 17,
   "id": "6b636e05-bae8-4cc3-9952-052b1278aa83",
   "metadata": {},
   "outputs": [
    {
     "name": "stdout",
     "output_type": "stream",
     "text": [
      "          a         b         c         d         e\n",
      "A  0.882548  0.787604  0.977752  0.432912  0.373578\n",
      "B  0.186309  0.541096  0.484835  0.024964  0.967352\n",
      "C  0.740687  0.335280  0.143726  0.298518  0.163579\n",
      "D  0.922346  0.888471  0.984887  0.453063  0.339779\n",
      "E  0.869008  0.877373  0.788757  0.892054  0.832659\n",
      "\n",
      "\n",
      "Dataframe after reindexing rows: \n",
      "           a         b         c         d         e\n",
      "B  0.186309  0.541096  0.484835  0.024964  0.967352\n",
      "D  0.922346  0.888471  0.984887  0.453063  0.339779\n",
      "A  0.882548  0.787604  0.977752  0.432912  0.373578\n",
      "C  0.740687  0.335280  0.143726  0.298518  0.163579\n",
      "E  0.869008  0.877373  0.788757  0.892054  0.832659\n"
     ]
    }
   ],
   "source": [
    "import pandas as pd\n",
    "import numpy as np\n",
    " \n",
    "column=['a','b','c','d','e']\n",
    "index=['A','B','C','D','E']\n",
    " \n",
    "# create a dataframe of random values of array\n",
    "df1 = pd.DataFrame(np.random.rand(5,5), \n",
    "            columns=column, index=index)\n",
    " \n",
    "print(df1)\n",
    " \n",
    "print('\\n\\nDataframe after reindexing rows: \\n', \n",
    "df1.reindex(['B', 'D', 'A', 'C', 'E']))"
   ]
  },
  {
   "cell_type": "markdown",
   "id": "9c6b9073-ebbf-46e8-a3e9-09f6c368fcf3",
   "metadata": {},
   "source": [
    "Q3. You have a Pandas DataFrame df with a column named 'Values'. Write a Python function that\n",
    "iterates over the DataFrame and calculates the sum of the first three values in the 'Values' column. The\n",
    "function should print the sum to the console.\n",
    "For example, if the 'Values' column of df contains the values [10, 20, 30, 40, 50], your function should\n",
    "calculate and print the sum of the first three values, which is 60."
   ]
  },
  {
   "cell_type": "code",
   "execution_count": 21,
   "id": "0ccaa629-dfe8-4589-a860-bda98dd6bb95",
   "metadata": {},
   "outputs": [
    {
     "name": "stdout",
     "output_type": "stream",
     "text": [
      "60\n"
     ]
    }
   ],
   "source": [
    "import pandas as pd\n",
    "\n",
    "def calculate_sum_of_first_three_values(df):\n",
    "  sum = 0\n",
    "  for i in range(3):\n",
    "    sum += df['Values'][i]\n",
    "  return sum\n",
    "df = pd.DataFrame({'Values': [10, 20, 30, 40, 50]})\n",
    "sum = calculate_sum_of_first_three_values(df)\n",
    "print(sum)"
   ]
  },
  {
   "cell_type": "markdown",
   "id": "db0c2b46-c994-469c-8fa6-fbf42447c968",
   "metadata": {},
   "source": [
    "Q4. Given a Pandas DataFrame df with a column 'Text', write a Python function to create a new column\n",
    "'Word_Count' that contains the number of words in each row of the 'Text' column."
   ]
  },
  {
   "cell_type": "code",
   "execution_count": 22,
   "id": "851d4a94-6b50-4dd5-b8b9-488a9524371c",
   "metadata": {},
   "outputs": [
    {
     "name": "stdout",
     "output_type": "stream",
     "text": [
      "                                             Article  \\\n",
      "0  Data analysis is the process of inspecting and...   \n",
      "1  The performance of a machine learning algorith...   \n",
      "2  You must have seen the news divided into categ...   \n",
      "3  When there are only two classes in a classific...   \n",
      "4  The Multinomial Naive Bayes is one of the vari...   \n",
      "\n",
      "                                               Title  \n",
      "0                  Best Books to Learn Data Analysis  \n",
      "1         Assumptions of Machine Learning Algorithms  \n",
      "2          News Classification with Machine Learning  \n",
      "3  Multiclass Classification Algorithms in Machin...  \n",
      "4        Multinomial Naive Bayes in Machine Learning  \n"
     ]
    }
   ],
   "source": [
    "data = pd.read_csv(\"https://raw.githubusercontent.com/amankharwal/Website-data/master/articles.csv\", encoding = 'latin1')\n",
    "print(data.head())"
   ]
  },
  {
   "cell_type": "code",
   "execution_count": 23,
   "id": "a4c51668-992e-4bb2-9ce2-35a2c0c02398",
   "metadata": {},
   "outputs": [
    {
     "name": "stdout",
     "output_type": "stream",
     "text": [
      "                                             Article  \\\n",
      "0  Data analysis is the process of inspecting and...   \n",
      "1  The performance of a machine learning algorith...   \n",
      "2  You must have seen the news divided into categ...   \n",
      "3  When there are only two classes in a classific...   \n",
      "4  The Multinomial Naive Bayes is one of the vari...   \n",
      "\n",
      "                                               Title  Number of Words  \n",
      "0                  Best Books to Learn Data Analysis               76  \n",
      "1         Assumptions of Machine Learning Algorithms               56  \n",
      "2          News Classification with Machine Learning               70  \n",
      "3  Multiclass Classification Algorithms in Machin...               66  \n",
      "4        Multinomial Naive Bayes in Machine Learning               96  \n"
     ]
    }
   ],
   "source": [
    "data[\"Number of Words\"] = data[\"Article\"].apply(lambda n: len(n.split()))\n",
    "print(data.head())"
   ]
  },
  {
   "cell_type": "markdown",
   "id": "74a51335-19fb-4506-b508-d21d36abe8e7",
   "metadata": {},
   "source": [
    "Q5. How are DataFrame.size() and DataFrame.shape() different?"
   ]
  },
  {
   "cell_type": "markdown",
   "id": "36c7c3e5-74a1-4a90-9029-dd589cace871",
   "metadata": {},
   "source": [
    "The difference between DataFrame.size() and DataFrame.shape() is that size() returns the total number of elements in the DataFrame, while shape() returns the shape of the DataFrame, which is a tuple of the number of rows and columns.\n",
    "For example, if you have a DataFrame with 3 rows and 4 columns, then size() will return 12 and shape() will return (3, 4).\n",
    "Here is an example of how to use size() and shape():"
   ]
  },
  {
   "cell_type": "code",
   "execution_count": 24,
   "id": "aa3fa0a8-2c0d-4fd1-b086-42ff8b7f01e2",
   "metadata": {},
   "outputs": [
    {
     "name": "stdout",
     "output_type": "stream",
     "text": [
      "6\n",
      "(3, 2)\n"
     ]
    }
   ],
   "source": [
    "import pandas as pd\n",
    "\n",
    "# Create a DataFrame\n",
    "df = pd.DataFrame({'A': [1, 2, 3], 'B': [4, 5, 6]})\n",
    "\n",
    "# Print the size of the DataFrame\n",
    "print(df.size)\n",
    "\n",
    "# Print the shape of the DataFrame\n",
    "print(df.shape)"
   ]
  },
  {
   "cell_type": "markdown",
   "id": "a9a72b4d-0fd9-4262-a5ee-f88cbf601d5d",
   "metadata": {},
   "source": [
    "Q6. Which function of pandas do we use to read an excel file?"
   ]
  },
  {
   "cell_type": "markdown",
   "id": "6f39e02b-0196-40b9-afdb-9ea18f585bf6",
   "metadata": {},
   "source": [
    "To read an excel file in pandas, we use the read_excel() function. The syntax is:      \n",
    "    \n",
    "df = pd.read_excel('file_name.xlsx')    \n",
    "\n",
    "This will read the Excel file into a pandas DataFrame. The DataFrame will have the same column names as the Excel file, and the data will be in the same order as the Excel file."
   ]
  },
  {
   "cell_type": "markdown",
   "id": "be843fa4-a7a7-4282-b337-ce6acfc8023e",
   "metadata": {},
   "source": [
    "Q7. You have a Pandas DataFrame df that contains a column named 'Email' that contains email\n",
    "addresses in the format 'username@domain.com'. Write a Python function that creates a new column\n",
    "'Username' in df that contains only the username part of each email address.\n",
    "The username is the part of the email address that appears before the '@' symbol. For example, if the\n",
    "email address is 'john.doe@example.com', the 'Username' column should contain 'john.doe'. Your\n",
    "function should extract the username from each email address and store it in the new 'Username'\n",
    "column."
   ]
  },
  {
   "cell_type": "markdown",
   "id": "b17d8fd7-c71e-42f2-b607-8f53a3898cb8",
   "metadata": {},
   "source": [
    "Q8. To use the basic functions of pandas, what is the first and foremost necessary library that needs to\n",
    "be imported?"
   ]
  },
  {
   "cell_type": "code",
   "execution_count": null,
   "id": "e227c21b-dee8-46b3-a0e9-5e55627e301d",
   "metadata": {},
   "outputs": [],
   "source": []
  }
 ],
 "metadata": {
  "kernelspec": {
   "display_name": "Python 3 (ipykernel)",
   "language": "python",
   "name": "python3"
  },
  "language_info": {
   "codemirror_mode": {
    "name": "ipython",
    "version": 3
   },
   "file_extension": ".py",
   "mimetype": "text/x-python",
   "name": "python",
   "nbconvert_exporter": "python",
   "pygments_lexer": "ipython3",
   "version": "3.10.8"
  }
 },
 "nbformat": 4,
 "nbformat_minor": 5
}
