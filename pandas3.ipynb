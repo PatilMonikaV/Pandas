{
 "cells": [
  {
   "cell_type": "markdown",
   "id": "a0d37236-dff0-4c64-b91f-e24d01bb55df",
   "metadata": {},
   "source": [
    "Consider following code to answer further questions:"
   ]
  },
  {
   "cell_type": "code",
   "execution_count": 1,
   "id": "d8fb0174-540f-46b7-bbfc-b4ce212360b7",
   "metadata": {},
   "outputs": [],
   "source": [
    "import pandas as pd"
   ]
  },
  {
   "cell_type": "code",
   "execution_count": 6,
   "id": "ce907ae3-04a7-4eee-b57d-b395ef505ca5",
   "metadata": {},
   "outputs": [],
   "source": [
    "course_name = ['Data Science', 'Machine Learning', 'Big Data', 'Data Engineer']\n",
    "duration = [2,3,6,4]\n",
    "df = pd.DataFrame(data = {'course_name' : course_name, 'duration' : duration})"
   ]
  },
  {
   "cell_type": "markdown",
   "id": "eb2fa405-e6ec-47dc-873b-64188326feb1",
   "metadata": {},
   "source": [
    "Q1. Write a code to print the data present in the second row of the dataframe, df."
   ]
  },
  {
   "cell_type": "code",
   "execution_count": 7,
   "id": "bcba0ac3-fbfc-49d5-8193-631c16c83b1c",
   "metadata": {},
   "outputs": [
    {
     "name": "stdout",
     "output_type": "stream",
     "text": [
      "course_name    Machine Learning\n",
      "duration                      3\n",
      "Name: 1, dtype: object\n"
     ]
    }
   ],
   "source": [
    "print(df.iloc[1])"
   ]
  },
  {
   "cell_type": "markdown",
   "id": "59d0fd8e-4d77-4d6a-bc16-180eaa558bd3",
   "metadata": {},
   "source": [
    "Q2. What is the difference between the functions loc and iloc in pandas.DataFrame?"
   ]
  },
  {
   "cell_type": "markdown",
   "id": "0ebd2db4-eb4b-4844-800a-971e727274c5",
   "metadata": {},
   "source": [
    "The main difference between loc and iloc is that loc is label-based, while iloc is integer-based. This means that loc can be used to select rows and columns by their names, while iloc can only be used to select rows and columns by their integer positions."
   ]
  },
  {
   "cell_type": "markdown",
   "id": "50271f4a-3f44-496a-8b01-9ec714bb0143",
   "metadata": {},
   "source": [
    "Q3. Reindex the given dataframe using a variable, reindex = [3,0,1,2] and store it in the variable, new_df\n",
    "then find the output for both new_df.loc[2] and new_df.iloc[2]."
   ]
  },
  {
   "cell_type": "code",
   "execution_count": 10,
   "id": "3e5101fa-ba9e-4d4e-bcbd-16775a555b43",
   "metadata": {},
   "outputs": [],
   "source": [
    "df1=df.reindex([3,0,1,2])"
   ]
  },
  {
   "cell_type": "code",
   "execution_count": 11,
   "id": "e91f0b4f-4dc3-449c-8c14-6f5d35494b8a",
   "metadata": {},
   "outputs": [
    {
     "name": "stdout",
     "output_type": "stream",
     "text": [
      "course_name    Big Data\n",
      "duration              6\n",
      "Name: 2, dtype: object\n"
     ]
    }
   ],
   "source": [
    "print(df.iloc[2])"
   ]
  },
  {
   "cell_type": "code",
   "execution_count": 12,
   "id": "ed4a1c0f-d346-4b51-96be-66946ab550c0",
   "metadata": {},
   "outputs": [
    {
     "name": "stdout",
     "output_type": "stream",
     "text": [
      "course_name    Machine Learning\n",
      "duration                      3\n",
      "Name: 1, dtype: object\n"
     ]
    }
   ],
   "source": [
    "print(df1.iloc[2])"
   ]
  },
  {
   "cell_type": "markdown",
   "id": "5c74ec6c-0c92-4ff4-baed-b516262bd632",
   "metadata": {},
   "source": [
    "Consider the below code to answer further questions:"
   ]
  },
  {
   "cell_type": "code",
   "execution_count": 2,
   "id": "81f14b8f-adea-450f-b1d5-fa1c54eed951",
   "metadata": {},
   "outputs": [],
   "source": [
    "import pandas as pd\n",
    "import numpy as np\n",
    "columns = ['column_1', 'column_2', 'column_3', 'column_4', 'column_5', 'column_6']\n",
    "indices = [1,2,3,4,5,6]\n",
    "#Creating a dataframe:\n",
    "df1 = pd.DataFrame(np.random.rand(6,6), columns = columns, index = indices)"
   ]
  },
  {
   "cell_type": "markdown",
   "id": "53f91eca-88db-42eb-b7da-32bbb2233ded",
   "metadata": {},
   "source": [
    "Q4. Write a code to find the following statistical measurements for the above dataframe df1:\n",
    "(i) mean of each and every column present in the dataframe.\n",
    "(ii) standard deviation of column, ‘column_2’"
   ]
  },
  {
   "cell_type": "code",
   "execution_count": 3,
   "id": "9bd8d5df-6cb6-4edd-b961-22a404487a75",
   "metadata": {},
   "outputs": [
    {
     "name": "stdout",
     "output_type": "stream",
     "text": [
      "column_1    0.659737\n",
      "column_2    0.414787\n",
      "column_3    0.556328\n",
      "column_4    0.528363\n",
      "column_5    0.500753\n",
      "column_6    0.410802\n",
      "dtype: float64\n"
     ]
    }
   ],
   "source": [
    "print(df1.mean()) "
   ]
  },
  {
   "cell_type": "code",
   "execution_count": 5,
   "id": "f0b7646b-0d25-4d0c-8279-515075fb89ea",
   "metadata": {},
   "outputs": [
    {
     "name": "stdout",
     "output_type": "stream",
     "text": [
      "column_1    0.209556\n",
      "column_2    0.183393\n",
      "column_3    0.179412\n",
      "column_4    0.227742\n",
      "column_5    0.362819\n",
      "column_6    0.294316\n",
      "dtype: float64\n"
     ]
    }
   ],
   "source": [
    "print(df1.std())"
   ]
  },
  {
   "cell_type": "markdown",
   "id": "440b25b0-bbdd-4f15-9159-9e93fff24b44",
   "metadata": {},
   "source": [
    "Q5. Replace the data present in the second row of column, ‘column_2’ by a string variable then find the\n",
    "mean of column, column_2.\n",
    "If you are getting errors in executing it then explain why.\n",
    "[Hint: To replace the data use df1.loc[] and equate this to string data of your choice.]"
   ]
  },
  {
   "cell_type": "code",
   "execution_count": 6,
   "id": "a1afac1e-811a-49d8-9150-f92a5cf858df",
   "metadata": {},
   "outputs": [
    {
     "data": {
      "text/html": [
       "<div>\n",
       "<style scoped>\n",
       "    .dataframe tbody tr th:only-of-type {\n",
       "        vertical-align: middle;\n",
       "    }\n",
       "\n",
       "    .dataframe tbody tr th {\n",
       "        vertical-align: top;\n",
       "    }\n",
       "\n",
       "    .dataframe thead th {\n",
       "        text-align: right;\n",
       "    }\n",
       "</style>\n",
       "<table border=\"1\" class=\"dataframe\">\n",
       "  <thead>\n",
       "    <tr style=\"text-align: right;\">\n",
       "      <th></th>\n",
       "      <th>column_1</th>\n",
       "      <th>column_2</th>\n",
       "      <th>column_3</th>\n",
       "      <th>column_4</th>\n",
       "      <th>column_5</th>\n",
       "      <th>column_6</th>\n",
       "    </tr>\n",
       "  </thead>\n",
       "  <tbody>\n",
       "    <tr>\n",
       "      <th>1</th>\n",
       "      <td>0.298272</td>\n",
       "      <td>0.357945</td>\n",
       "      <td>0.625639</td>\n",
       "      <td>0.405929</td>\n",
       "      <td>0.021803</td>\n",
       "      <td>0.279045</td>\n",
       "    </tr>\n",
       "    <tr>\n",
       "      <th>2</th>\n",
       "      <td>0.834763</td>\n",
       "      <td>0.663705</td>\n",
       "      <td>0.690991</td>\n",
       "      <td>0.513422</td>\n",
       "      <td>0.899592</td>\n",
       "      <td>0.341208</td>\n",
       "    </tr>\n",
       "    <tr>\n",
       "      <th>3</th>\n",
       "      <td>0.750593</td>\n",
       "      <td>0.277491</td>\n",
       "      <td>0.213528</td>\n",
       "      <td>0.340602</td>\n",
       "      <td>0.588705</td>\n",
       "      <td>0.458767</td>\n",
       "    </tr>\n",
       "    <tr>\n",
       "      <th>4</th>\n",
       "      <td>0.868065</td>\n",
       "      <td>0.351443</td>\n",
       "      <td>0.555180</td>\n",
       "      <td>0.297856</td>\n",
       "      <td>0.613231</td>\n",
       "      <td>0.210022</td>\n",
       "    </tr>\n",
       "    <tr>\n",
       "      <th>5</th>\n",
       "      <td>0.614938</td>\n",
       "      <td>0.218977</td>\n",
       "      <td>0.699442</td>\n",
       "      <td>0.832281</td>\n",
       "      <td>0.092674</td>\n",
       "      <td>0.978766</td>\n",
       "    </tr>\n",
       "    <tr>\n",
       "      <th>6</th>\n",
       "      <td>0.591792</td>\n",
       "      <td>0.619163</td>\n",
       "      <td>0.553187</td>\n",
       "      <td>0.780087</td>\n",
       "      <td>0.788516</td>\n",
       "      <td>0.197006</td>\n",
       "    </tr>\n",
       "  </tbody>\n",
       "</table>\n",
       "</div>"
      ],
      "text/plain": [
       "   column_1  column_2  column_3  column_4  column_5  column_6\n",
       "1  0.298272  0.357945  0.625639  0.405929  0.021803  0.279045\n",
       "2  0.834763  0.663705  0.690991  0.513422  0.899592  0.341208\n",
       "3  0.750593  0.277491  0.213528  0.340602  0.588705  0.458767\n",
       "4  0.868065  0.351443  0.555180  0.297856  0.613231  0.210022\n",
       "5  0.614938  0.218977  0.699442  0.832281  0.092674  0.978766\n",
       "6  0.591792  0.619163  0.553187  0.780087  0.788516  0.197006"
      ]
     },
     "execution_count": 6,
     "metadata": {},
     "output_type": "execute_result"
    }
   ],
   "source": [
    "df1"
   ]
  },
  {
   "cell_type": "code",
   "execution_count": 8,
   "id": "d9347040-8dac-4d47-a375-dc64b452610e",
   "metadata": {},
   "outputs": [],
   "source": [
    "df2=df1.replace(\"column_2\", \"str\")"
   ]
  },
  {
   "cell_type": "markdown",
   "id": "73a256b0-5846-4fa4-95f8-7c54ec27edad",
   "metadata": {},
   "source": [
    "Q6. What do you understand about the windows function in pandas and list the types of windows\n",
    "functions?"
   ]
  },
  {
   "cell_type": "markdown",
   "id": "2521b447-f9df-4160-992e-3e870ed400f6",
   "metadata": {},
   "source": [
    "Window functions are a powerful tool in pandas that allow you to perform calculations across a set of rows that are related to the current row. This can be useful for a variety of tasks, such as calculating moving averages, finding the highest or lowest value in a window, or ranking rows within a window.             \n",
    "There are four main types of window functions in pandas:              \n",
    "Rolling window:              \n",
    "A rolling window is a fixed-size window that moves over the data, one row at a time. At each row, the window function is applied to the data in the window.               \n",
    "Expanding window:                \n",
    "An expanding window is a window that grows as it moves over the data. At each row, the window function is applied to all of the data up to and including the current row.               \n",
    "Exponentially weighted window:                  \n",
    "An exponentially weighted window is a window that gives more weight to recent data than to older data. This can be useful for tasks such as calculating moving averages, where you want to give more weight to the most recent data points.                \n",
    "EWM:                 \n",
    "EWM stands for exponentially weighted moving average. It is a type of window function that gives more weight to recent data than to older data. This can be useful for tasks such as smoothing out data or calculating trends.                   "
   ]
  },
  {
   "cell_type": "markdown",
   "id": "95a6caa9-e954-468e-83b0-ed1a4f21316f",
   "metadata": {},
   "source": [
    "Q7. Write a code to print only the current month and year at the time of answering this question.\n",
    "[Hint: Use pandas.datetime function]"
   ]
  },
  {
   "cell_type": "code",
   "execution_count": 14,
   "id": "cb95d8c3-b2b8-44d2-bbab-1bb543a0a364",
   "metadata": {},
   "outputs": [
    {
     "name": "stdout",
     "output_type": "stream",
     "text": [
      "The current month and year is 3 2024\n"
     ]
    },
    {
     "name": "stderr",
     "output_type": "stream",
     "text": [
      "/tmp/ipykernel_84/3311013626.py:1: FutureWarning: The pandas.datetime class is deprecated and will be removed from pandas in a future version. Import from datetime module instead.\n",
      "  now = pd.datetime.now()\n"
     ]
    }
   ],
   "source": [
    "now = pd.datetime.now()\n",
    "month = now.month\n",
    "year = now.year\n",
    "print(f\"The current month and year is {month} {year}\")"
   ]
  },
  {
   "cell_type": "markdown",
   "id": "ee668f89-a0a8-4e06-a50c-4da5c116f599",
   "metadata": {},
   "source": [
    "Q8. Write a Python program that takes in two dates as input (in the format YYYY-MM-DD) and\n",
    "calculates the difference between them in days, hours, and minutes using Pandas time delta. The\n",
    "program should prompt the user to enter the dates and display the result."
   ]
  },
  {
   "cell_type": "code",
   "execution_count": 16,
   "id": "53d3a76b-0c2a-4960-9c4c-535c8394a473",
   "metadata": {},
   "outputs": [
    {
     "name": "stdin",
     "output_type": "stream",
     "text": [
      "Enter the first date (YYYY-MM-DD):  2003-11-02\n",
      "Enter the second date (YYYY-MM-DD):  2024-03-19\n"
     ]
    },
    {
     "name": "stdout",
     "output_type": "stream",
     "text": [
      "The difference between the dates is:\n",
      "Days: 7443\n",
      "Hours: 0\n",
      "Minutes: 0\n"
     ]
    }
   ],
   "source": [
    "import pandas as pd\n",
    "date1 = input(\"Enter the first date (YYYY-MM-DD): \")\n",
    "date2 = input(\"Enter the second date (YYYY-MM-DD): \")\n",
    "date1 = pd.to_datetime(date1)\n",
    "date2 = pd.to_datetime(date2)\n",
    "delta = date2 - date1\n",
    "\n",
    "print(\"The difference between the dates is:\")\n",
    "print(f\"Days: {delta.days}\")\n",
    "print(f\"Hours: {delta.seconds // 3600}\")\n",
    "print(f\"Minutes: {(delta.seconds // 60) % 60}\")"
   ]
  },
  {
   "cell_type": "markdown",
   "id": "6a8a6b83-7358-431e-83f9-b3078bc6ba65",
   "metadata": {},
   "source": [
    "Q9. Write a Python program that reads a CSV file containing categorical data and converts a specified\n",
    "column to a categorical data type. The program should prompt the user to enter the file path, column\n",
    "name, and category order, and then display the sorted data."
   ]
  },
  {
   "cell_type": "raw",
   "id": "fab0d52a-4bcc-45e7-9fe0-2a370fe87392",
   "metadata": {},
   "source": [
    "import pandas as pd\n",
    "\n",
    "def read_csv_and_convert_column_to_categorical(file_path, column_name, category_order):\n",
    "\n",
    "  df = pd.read_csv(file_path)\n",
    "  df[column_name] = pd.Categorical(df[column_name], categories=category_order)\n",
    "  return df\n",
    "\n",
    "def main():\n",
    "  file_path = input(\"Enter the file path: \")\n",
    "  column_name = input(\"Enter the column name: \")\n",
    "  category_order = input(\"Enter the category order, separated by commas: \").split(\",\")\n",
    "\n",
    "  df = read_csv_and_convert_column_to_categorical(file_path, column_name, category_order)\n",
    "\n",
    "  # Sort the data by the specified column.\n",
    "  df = df.sort_values(by=column_name)\n",
    "\n",
    "  # Display the sorted data.\n",
    "  print(df)\n",
    "\n",
    "if __name__ == \"__main__\":\n",
    "  main()"
   ]
  },
  {
   "cell_type": "markdown",
   "id": "bbcb8353-2d34-4122-96c4-de56aa0a8318",
   "metadata": {},
   "source": [
    "Q10. Write a Python program that reads a CSV file containing sales data for different products and\n",
    "visualizes the data using a stacked bar chart to show the sales of each product category over time. The\n",
    "program should prompt the user to enter the file path and display the chart."
   ]
  },
  {
   "cell_type": "code",
   "execution_count": 2,
   "id": "fcdb3237-3823-4d9f-a86d-b4c73daaf0c4",
   "metadata": {},
   "outputs": [
    {
     "name": "stdin",
     "output_type": "stream",
     "text": [
      "Enter the file path:  people.csv\n"
     ]
    },
    {
     "name": "stderr",
     "output_type": "stream",
     "text": [
      "No artists with labels found to put in legend.  Note that artists whose label start with an underscore are ignored when legend() is called with no argument.\n"
     ]
    },
    {
     "data": {
      "image/png": "[encoded data removed]",
      "text/plain": [
       "<Figure size 640x480 with 1 Axes>"
      ]
     },
     "metadata": {},
     "output_type": "display_data"
    }
   ],
   "source": [
    "import csv\n",
    "import matplotlib.pyplot as plt\n",
    "\n",
    "def read_csv(file_path):\n",
    "  \"\"\"Reads a CSV file and returns a list of lists, where each inner list represents a row in the CSV file.\"\"\"\n",
    "  with open(file_path, \"r\") as f:\n",
    "    reader = csv.reader(f)\n",
    "    data = []\n",
    "    for row in reader:\n",
    "      data.append(row)\n",
    "  return data\n",
    "\n",
    "def plot_stacked_bar_chart(data, product_categories):\n",
    "  \"\"\"Plots a stacked bar chart showing the sales of each product category over time.\"\"\"\n",
    "  fig, ax = plt.subplots()\n",
    "  for i, product_category in enumerate(product_categories):\n",
    "    sales = [float(row[i + 1]) for row in data]\n",
    "    ax.bar(data[0], sales, label=product_category)\n",
    "\n",
    "  ax.set_xlabel(\"Time\")\n",
    "  ax.set_ylabel(\"Sales\")\n",
    "  ax.set_title(\"Sales of Each Product Category Over Time\")\n",
    "  ax.legend()\n",
    "  plt.show()\n",
    "\n",
    "def main():\n",
    "  \"\"\"Prompts the user to enter the file path and displays the chart.\"\"\"\n",
    "  file_path = input(\"Enter the file path: \")\n",
    "  data = read_csv(file_path)\n",
    "  product_categories = data[0][1:]\n",
    "  plot_stacked_bar_chart(data, product_categories)\n",
    "\n",
    "if __name__ == \"__main__\":\n",
    "  main()"
   ]
  },
  {
   "cell_type": "code",
   "execution_count": null,
   "id": "d210d306-e168-4cca-b124-44691fd90f22",
   "metadata": {},
   "outputs": [],
   "source": []
  }
 ],
 "metadata": {
  "kernelspec": {
   "display_name": "Python 3 (ipykernel)",
   "language": "python",
   "name": "python3"
  },
  "language_info": {
   "codemirror_mode": {
    "name": "ipython",
    "version": 3
   },
   "file_extension": ".py",
   "mimetype": "text/x-python",
   "name": "python",
   "nbconvert_exporter": "python",
   "pygments_lexer": "ipython3",
   "version": "3.10.8"
  }
 },
 "nbformat": 4,
 "nbformat_minor": 5
}
